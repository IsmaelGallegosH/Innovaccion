{
 "cells": [
  {
   "cell_type": "markdown",
   "metadata": {},
   "source": [
    "# Ejercicio: Uso de funciones en Python\n",
    "Ejercicio 1: Trabajar con argumentos en funciones\n",
    "\n",
    "Los argumentos requeridos en las funciones se utilizan cuando las funciones necesitan que esos argumentos funcionen correctamente. En este ejercicio, construirás un informe de combustible que requiere información de varias ubicaciones de combustible en todo el cohete.\n",
    "\n",
    "Comienza por crear una función que necesite tres lecturas de combustible y devuelva un informe:\n"
   ]
  },
  {
   "cell_type": "code",
   "execution_count": 9,
   "metadata": {},
   "outputs": [
    {
     "name": "stdout",
     "output_type": "stream",
     "text": [
      "\" Reporte de combustible \n",
      "    Combustible total: 140\n",
      "    Promedio combustible: 46.666666666666664%\n",
      "    Combustible en tanque 1 80\n",
      "    Combustible en tanque 2 10\n",
      "    Combustible en tanque 3 50\n",
      "\" Reporte de combustible \n",
      "    Combustible total: 140\n",
      "    Promedio combustible: 46.666666666666664%\n",
      "    Combustible en tanque 1 80\n",
      "    Combustible en tanque 2 10\n",
      "    Combustible en tanque 3 50\n"
     ]
    }
   ],
   "source": [
    "def informe(combustible1, combustible2, combustible3):\n",
    "    total_combustible = combustible1 + combustible2 + combustible3\n",
    "    promedio_combustible = total_combustible/3\n",
    "    return f\"\"\"\" Reporte de combustible \n",
    "    Combustible total: {total_combustible}\n",
    "    Promedio combustible: {promedio_combustible}%\n",
    "    Combustible en tanque 1 {combustible1}\n",
    "    Combustible en tanque 2 {combustible2}\n",
    "    Combustible en tanque 3 {combustible3}\"\"\" \n",
    "\n",
    "print(informe(80,10,50))\n",
    "\n",
    "def promedio(combustible1, combustible2, combustible3):\n",
    "    prom_comb = (combustible1 + combustible2 + combustible3)/3\n",
    "    return prom_comb  \n",
    "\n",
    "def informe(combustible1, combustible2, combustible3):\n",
    "    total_combustible = combustible1 + combustible2 + combustible3\n",
    "    promedio_combustible = total_combustible/3\n",
    "    return f\"\"\"\" Reporte de combustible \n",
    "    Combustible total: {total_combustible}\n",
    "    Promedio combustible: {promedio(combustible1,combustible2,combustible3)}%\n",
    "    Combustible en tanque 1 {combustible1}\n",
    "    Combustible en tanque 2 {combustible2}\n",
    "    Combustible en tanque 3 {combustible3}\"\"\" \n",
    "    \n",
    "\n",
    "print(informe(80,10,50))\n"
   ]
  },
  {
   "cell_type": "markdown",
   "metadata": {},
   "source": [
    "\n",
    "# Ejercicio 2: Trabajo con argumentos de palabra clave\n",
    "Ejercicio : Trabajar con argumentos de palabras clave en funciones\n",
    "\n",
    "En este ejercicio, construirás un informe de cohete que requiere varias piezas de información, como el tiempo hasta el destino, el combustible a la izquierda y el nombre del destino. Comienza por crear una función que creará un informe preciso de la misión:\n"
   ]
  },
  {
   "cell_type": "code",
   "execution_count": 16,
   "metadata": {},
   "outputs": [
    {
     "name": "stdout",
     "output_type": "stream",
     "text": [
      "\n",
      "    Mission to Moon\n",
      "    Total travel time: 65 minutes\n",
      "    Total fuel left: 500000 gallons\n",
      "    \n",
      "\n",
      "    Mission to Moon\n",
      "    Total travel time: 76 minutes\n",
      "    Total fuel left: 500000\n",
      "    \n",
      "\n",
      "    Mission to Moon\n",
      "    Total travel time: 74 minutes\n",
      "    Total fuel left: 500000\n",
      "    main tank --> 300000 gallons left\n",
      "external tank --> 200000 gallons left\n",
      "\n"
     ]
    }
   ],
   "source": [
    "def mission_report(pre_launch_time, flight_time, destination, external_tank, main_tank):\n",
    "    return f\"\"\"\n",
    "    Mission to {destination}\n",
    "    Total travel time: {pre_launch_time + flight_time} minutes\n",
    "    Total fuel left: {external_tank + main_tank} gallons\n",
    "    \"\"\"\n",
    "print(mission_report(14, 51, \"Moon\", 200000, 300000))    \n",
    "def mission_report(destination, *minutes, **fuel_reservoirs):\n",
    "    return f\"\"\"\n",
    "    Mission to {destination}\n",
    "    Total travel time: {sum(minutes)} minutes\n",
    "    Total fuel left: {sum(fuel_reservoirs.values())}\n",
    "    \"\"\"\n",
    "\n",
    "print(mission_report(\"Moon\", 10, 15, 51, main=300000, external=200000))\n",
    "\n",
    "\n",
    "def mission_report(destination, *minutes, **fuel_reservoirs):\n",
    "    main_report = f\"\"\"\n",
    "    Mission to {destination}\n",
    "    Total travel time: {sum(minutes)} minutes\n",
    "    Total fuel left: {sum(fuel_reservoirs.values())}\n",
    "    \"\"\"\n",
    "    for tank_name, gallons in fuel_reservoirs.items():\n",
    "        main_report += f\"{tank_name} tank --> {gallons} gallons left\\n\"\n",
    "    return main_report\n",
    "\n",
    "print(mission_report(\"Moon\", 8, 11, 55, main=300000, external=200000))"
   ]
  }
 ],
 "metadata": {
  "interpreter": {
   "hash": "b9886b53f1917484a6a8a4806ed9205c30a9422c5154b4291280ac35815bf084"
  },
  "kernelspec": {
   "display_name": "Python 3.10.2 64-bit (windows store)",
   "language": "python",
   "name": "python3"
  },
  "language_info": {
   "codemirror_mode": {
    "name": "ipython",
    "version": 3
   },
   "file_extension": ".py",
   "mimetype": "text/x-python",
   "name": "python",
   "nbconvert_exporter": "python",
   "pygments_lexer": "ipython3",
   "version": "3.10.2"
  },
  "orig_nbformat": 4
 },
 "nbformat": 4,
 "nbformat_minor": 2
}
